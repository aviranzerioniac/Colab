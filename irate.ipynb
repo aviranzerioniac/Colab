{
  "nbformat": 4,
  "nbformat_minor": 0,
  "metadata": {
    "colab": {
      "name": "irate.ipynb",
      "provenance": [],
      "machine_shape": "hm",
      "authorship_tag": "ABX9TyOVFsdI5tILtRJIew1LLfHz",
      "include_colab_link": true
    },
    "kernelspec": {
      "name": "python3",
      "display_name": "Python 3"
    }
  },
  "cells": [
    {
      "cell_type": "markdown",
      "metadata": {
        "id": "view-in-github",
        "colab_type": "text"
      },
      "source": [
        "<a href=\"https://colab.research.google.com/github/aviranzerioniac/Colab/blob/master/irate.ipynb\" target=\"_parent\"><img src=\"https://colab.research.google.com/assets/colab-badge.svg\" alt=\"Open In Colab\"/></a>"
      ]
    },
    {
      "cell_type": "code",
      "metadata": {
        "id": "hfrxpejK345b",
        "colab_type": "code",
        "outputId": "89819df2-2818-47fb-e608-28c5ab6ca2f8",
        "colab": {
          "base_uri": "https://localhost:8080/",
          "height": 161
        }
      },
      "source": [
        "!voila Irate.ipynb"
      ],
      "execution_count": 0,
      "outputs": [
        {
          "output_type": "stream",
          "text": [
            "Traceback (most recent call last):\n",
            "  File \"/usr/local/bin/voila\", line 8, in <module>\n",
            "    sys.exit(main())\n",
            "  File \"/usr/local/lib/python3.6/dist-packages/traitlets/config/application.py\", line 663, in launch_instance\n",
            "    app.initialize(argv)\n",
            "  File \"/usr/local/lib/python3.6/dist-packages/voila/app.py\", line 340, in initialize\n",
            "    raise ValueError('argument is neither a file nor a directory: %r' % arg)\n",
            "ValueError: argument is neither a file nor a directory: 'Irate.ipynb'\n"
          ],
          "name": "stdout"
        }
      ]
    }
  ]
}